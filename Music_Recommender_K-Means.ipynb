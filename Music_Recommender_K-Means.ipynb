# Data Loading and Initial Analysis

# Load the dataset
data = pd.read_csv('https://raw.githubusercontent.com/user/repo/branch/data.csv')

# Display the first two rows
print(data.head(2))

# List unique years in the dataset
print(data["year"].unique())

# Check the shape of the dataset
print(data.shape)

# Drop unnecessary columns
data = data.drop(["explicit", "key", "mode"], axis=1)

# Check the shape of the dataset after dropping columns
print(data.shape)

# Check for missing values
print(data.isna().sum())

#Data Visualization

import plotly.express as px

# Example of a line plot with Plotly Express
fig = px.line(data, x="year", y="loudness", title="Loudness Over Years")
fig.show()

import plotly.graph_objects as go

# Example of creating a figure with Plotly Graph Objects
fig = go.Figure()
# Here, you would add traces or layout adjustments as needed
fig.show()

#Applying K-Means Clustering

from sklearn.cluster import KMeans
from sklearn.decomposition import PCA
from sklearn.pipeline import Pipeline

# Create a K-Means clustering pipeline with PCA
clustering_pipeline = Pipeline([
    ('pca', PCA(n_components=2)),
    ('kmeans', KMeans(n_clusters=5, random_state=42))
])

# Fit the pipeline to the data
clustering_pipeline.fit(data)

# Example of using the pipeline to predict clusters
clusters = clustering_pipeline.predict(data)


#Spotify API and Spotipy Library
!pip install spotipy
import spotipy
from spotipy.oauth2 import SpotifyClientCredentials

# Set up Spotipy client credentials
client_credentials_manager = SpotifyClientCredentials(client_id='YOUR_CLIENT_ID', client_secret='YOUR_CLIENT_SECRET')
sp = spotipy.Spotify(client_credentials_manager=client_credentials_manager)

# Recommendation Function and Visualization

def recommend_song(song_name):
    # Here you would define the logic to recommend a song based on the input song name
    # This could involve querying the Spotify API, performing clustering analysis, etc.
    pass

# Example usage of the recommendation function
recommend_song('Ed Sheeran - Shape of You')
